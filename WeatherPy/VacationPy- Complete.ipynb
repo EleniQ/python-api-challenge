{
 "cells": [
  {
   "cell_type": "markdown",
   "metadata": {},
   "source": [
    "# VacationPy\n",
    "----\n",
    "\n",
    "#### Note\n",
    "* Keep an eye on your API usage. Use https://developers.google.com/maps/reporting/gmp-reporting as reference for how to monitor your usage and billing.\n",
    "\n",
    "* Instructions have been included for each segment. You do not have to follow them exactly, but they are included to help you think through the steps."
   ]
  },
  {
   "cell_type": "code",
   "execution_count": 6,
   "metadata": {},
   "outputs": [],
   "source": [
    "# Dependencies and Setup\n",
    "import matplotlib.pyplot as plt\n",
    "import pandas as pd\n",
    "import numpy as np\n",
    "import requests\n",
    "import gmaps\n",
    "import os\n",
    "\n",
    "# Import API key\n",
    "from api_keys import g_key"
   ]
  },
  {
   "cell_type": "markdown",
   "metadata": {},
   "source": [
    "### Store Part I results into DataFrame\n",
    "* Load the csv exported in Part I to a DataFrame"
   ]
  },
  {
   "cell_type": "code",
   "execution_count": 7,
   "metadata": {},
   "outputs": [
    {
     "data": {
      "text/html": [
       "<div>\n",
       "<style scoped>\n",
       "    .dataframe tbody tr th:only-of-type {\n",
       "        vertical-align: middle;\n",
       "    }\n",
       "\n",
       "    .dataframe tbody tr th {\n",
       "        vertical-align: top;\n",
       "    }\n",
       "\n",
       "    .dataframe thead th {\n",
       "        text-align: right;\n",
       "    }\n",
       "</style>\n",
       "<table border=\"1\" class=\"dataframe\">\n",
       "  <thead>\n",
       "    <tr style=\"text-align: right;\">\n",
       "      <th></th>\n",
       "      <th>City</th>\n",
       "      <th>Latitude</th>\n",
       "      <th>Longitude</th>\n",
       "      <th>Max Temperature</th>\n",
       "      <th>Humidity</th>\n",
       "      <th>Cloud Coverage</th>\n",
       "      <th>Wind Speed</th>\n",
       "      <th>Country</th>\n",
       "      <th>Date</th>\n",
       "    </tr>\n",
       "  </thead>\n",
       "  <tbody>\n",
       "    <tr>\n",
       "      <th>0</th>\n",
       "      <td>Kapaa</td>\n",
       "      <td>22.0752</td>\n",
       "      <td>-159.3190</td>\n",
       "      <td>84.11</td>\n",
       "      <td>70</td>\n",
       "      <td>89</td>\n",
       "      <td>5.99</td>\n",
       "      <td>US</td>\n",
       "      <td>1665435244</td>\n",
       "    </tr>\n",
       "    <tr>\n",
       "      <th>1</th>\n",
       "      <td>São João da Barra</td>\n",
       "      <td>-21.6403</td>\n",
       "      <td>-41.0511</td>\n",
       "      <td>80.69</td>\n",
       "      <td>84</td>\n",
       "      <td>9</td>\n",
       "      <td>7.40</td>\n",
       "      <td>BR</td>\n",
       "      <td>1665435244</td>\n",
       "    </tr>\n",
       "    <tr>\n",
       "      <th>2</th>\n",
       "      <td>Dingle</td>\n",
       "      <td>10.9995</td>\n",
       "      <td>122.6711</td>\n",
       "      <td>74.57</td>\n",
       "      <td>91</td>\n",
       "      <td>50</td>\n",
       "      <td>1.10</td>\n",
       "      <td>PH</td>\n",
       "      <td>1665435245</td>\n",
       "    </tr>\n",
       "    <tr>\n",
       "      <th>3</th>\n",
       "      <td>Punta Arenas</td>\n",
       "      <td>-53.1500</td>\n",
       "      <td>-70.9167</td>\n",
       "      <td>53.71</td>\n",
       "      <td>43</td>\n",
       "      <td>40</td>\n",
       "      <td>32.21</td>\n",
       "      <td>CL</td>\n",
       "      <td>1665435200</td>\n",
       "    </tr>\n",
       "    <tr>\n",
       "      <th>4</th>\n",
       "      <td>Constantine</td>\n",
       "      <td>36.3650</td>\n",
       "      <td>6.6147</td>\n",
       "      <td>63.81</td>\n",
       "      <td>82</td>\n",
       "      <td>40</td>\n",
       "      <td>9.22</td>\n",
       "      <td>DZ</td>\n",
       "      <td>1665435081</td>\n",
       "    </tr>\n",
       "  </tbody>\n",
       "</table>\n",
       "</div>"
      ],
      "text/plain": [
       "                City  Latitude  Longitude  Max Temperature  Humidity  \\\n",
       "0              Kapaa   22.0752  -159.3190            84.11        70   \n",
       "1  São João da Barra  -21.6403   -41.0511            80.69        84   \n",
       "2             Dingle   10.9995   122.6711            74.57        91   \n",
       "3       Punta Arenas  -53.1500   -70.9167            53.71        43   \n",
       "4        Constantine   36.3650     6.6147            63.81        82   \n",
       "\n",
       "   Cloud Coverage  Wind Speed Country        Date  \n",
       "0              89        5.99      US  1665435244  \n",
       "1               9        7.40      BR  1665435244  \n",
       "2              50        1.10      PH  1665435245  \n",
       "3              40       32.21      CL  1665435200  \n",
       "4              40        9.22      DZ  1665435081  "
      ]
     },
     "execution_count": 7,
     "metadata": {},
     "output_type": "execute_result"
    }
   ],
   "source": [
    "city_df = pd.read_csv(\"../WeatherPy/output_data/cities.csv\")\n",
    "city_df.head ()\n"
   ]
  },
  {
   "cell_type": "markdown",
   "metadata": {},
   "source": [
    "### Humidity Heatmap\n",
    "* Configure gmaps.\n",
    "* Use the Lat and Lng as locations and Humidity as the weight.\n",
    "* Add Heatmap layer to map."
   ]
  },
  {
   "cell_type": "code",
   "execution_count": 8,
   "metadata": {},
   "outputs": [
    {
     "data": {
      "application/vnd.jupyter.widget-view+json": {
       "model_id": "7ef64a02bdb041e3a1c22f73a4020d00",
       "version_major": 2,
       "version_minor": 0
      },
      "text/plain": [
       "Figure(layout=FigureLayout(height='420px'))"
      ]
     },
     "metadata": {},
     "output_type": "display_data"
    }
   ],
   "source": [
    "gmaps.configure(api_key = g_key)\n",
    "\n",
    "locations = city_df[[\"Latitude\", \"Longitude\"]]\n",
    "weight = city_df[\"Humidity\"]\n",
    "fig = gmaps.figure(center=(0.0, 0.0), zoom_level=4)\n",
    "heatmap_layer = gmaps.heatmap_layer(locations, weights = weight)\n",
    "fig.add_layer(heatmap_layer)\n",
    "fig"
   ]
  },
  {
   "cell_type": "code",
   "execution_count": 9,
   "metadata": {},
   "outputs": [
    {
     "name": "stdout",
     "output_type": "stream",
     "text": [
      "<class 'pandas.core.frame.DataFrame'>\n",
      "RangeIndex: 550 entries, 0 to 549\n",
      "Data columns (total 9 columns):\n",
      " #   Column           Non-Null Count  Dtype  \n",
      "---  ------           --------------  -----  \n",
      " 0   City             550 non-null    object \n",
      " 1   Latitude         550 non-null    float64\n",
      " 2   Longitude        550 non-null    float64\n",
      " 3   Max Temperature  550 non-null    float64\n",
      " 4   Humidity         550 non-null    int64  \n",
      " 5   Cloud Coverage   550 non-null    int64  \n",
      " 6   Wind Speed       550 non-null    float64\n",
      " 7   Country          545 non-null    object \n",
      " 8   Date             550 non-null    int64  \n",
      "dtypes: float64(4), int64(3), object(2)\n",
      "memory usage: 38.8+ KB\n"
     ]
    }
   ],
   "source": [
    "city_df.info ()"
   ]
  },
  {
   "cell_type": "code",
   "execution_count": 10,
   "metadata": {},
   "outputs": [],
   "source": [
    "# no null values "
   ]
  },
  {
   "cell_type": "markdown",
   "metadata": {},
   "source": [
    "### Create new DataFrame fitting weather criteria\n",
    "* Narrow down the cities to fit weather conditions.\n",
    "* Drop any rows will null values."
   ]
  },
  {
   "cell_type": "markdown",
   "metadata": {},
   "source": [
    "Create new DataFrame fitting weather criteria\n",
    "Narrow down the cities to fit weather conditions:\n",
    "Temp 72-85\n",
    "Wind 3-7 knots \n",
    "Cloud 0-3 oktas (0-30) \n",
    "I like dry heat so between 15% and 35% humidity."
   ]
  },
  {
   "cell_type": "code",
   "execution_count": 11,
   "metadata": {},
   "outputs": [
    {
     "data": {
      "text/html": [
       "<div>\n",
       "<style scoped>\n",
       "    .dataframe tbody tr th:only-of-type {\n",
       "        vertical-align: middle;\n",
       "    }\n",
       "\n",
       "    .dataframe tbody tr th {\n",
       "        vertical-align: top;\n",
       "    }\n",
       "\n",
       "    .dataframe thead th {\n",
       "        text-align: right;\n",
       "    }\n",
       "</style>\n",
       "<table border=\"1\" class=\"dataframe\">\n",
       "  <thead>\n",
       "    <tr style=\"text-align: right;\">\n",
       "      <th></th>\n",
       "      <th>City</th>\n",
       "      <th>Latitude</th>\n",
       "      <th>Longitude</th>\n",
       "      <th>Max Temperature</th>\n",
       "      <th>Humidity</th>\n",
       "      <th>Cloud Coverage</th>\n",
       "      <th>Wind Speed</th>\n",
       "      <th>Country</th>\n",
       "      <th>Date</th>\n",
       "    </tr>\n",
       "  </thead>\n",
       "  <tbody>\n",
       "    <tr>\n",
       "      <th>323</th>\n",
       "      <td>Nizwá</td>\n",
       "      <td>22.9333</td>\n",
       "      <td>57.5333</td>\n",
       "      <td>75.92</td>\n",
       "      <td>22</td>\n",
       "      <td>14</td>\n",
       "      <td>3.13</td>\n",
       "      <td>OM</td>\n",
       "      <td>1665435282</td>\n",
       "    </tr>\n",
       "    <tr>\n",
       "      <th>525</th>\n",
       "      <td>Lexington</td>\n",
       "      <td>37.9887</td>\n",
       "      <td>-84.4777</td>\n",
       "      <td>74.14</td>\n",
       "      <td>30</td>\n",
       "      <td>0</td>\n",
       "      <td>3.00</td>\n",
       "      <td>US</td>\n",
       "      <td>1665435308</td>\n",
       "    </tr>\n",
       "    <tr>\n",
       "      <th>539</th>\n",
       "      <td>Santa Fe</td>\n",
       "      <td>-31.6333</td>\n",
       "      <td>-60.7000</td>\n",
       "      <td>72.01</td>\n",
       "      <td>24</td>\n",
       "      <td>2</td>\n",
       "      <td>5.99</td>\n",
       "      <td>AR</td>\n",
       "      <td>1665435097</td>\n",
       "    </tr>\n",
       "  </tbody>\n",
       "</table>\n",
       "</div>"
      ],
      "text/plain": [
       "          City  Latitude  Longitude  Max Temperature  Humidity  \\\n",
       "323      Nizwá   22.9333    57.5333            75.92        22   \n",
       "525  Lexington   37.9887   -84.4777            74.14        30   \n",
       "539   Santa Fe  -31.6333   -60.7000            72.01        24   \n",
       "\n",
       "     Cloud Coverage  Wind Speed Country        Date  \n",
       "323              14        3.13      OM  1665435282  \n",
       "525               0        3.00      US  1665435308  \n",
       "539               2        5.99      AR  1665435097  "
      ]
     },
     "execution_count": 11,
     "metadata": {},
     "output_type": "execute_result"
    }
   ],
   "source": [
    "temp = (city_df[\"Max Temperature\"] >= 72)&(city_df[\"Max Temperature\"] <= 85)\n",
    "wind = (city_df[\"Wind Speed\"] >= 3)&(city_df[\"Wind Speed\"] <= 7)\n",
    "cloud = (city_df[\"Cloud Coverage\"] >= 0) &(city_df[\"Cloud Coverage\"] <= 30)\n",
    "humidity = (city_df[\"Humidity\"] >= 15) & (city_df[\"Humidity\"] <= 35)\n",
    "weather = city_df.loc[temp & wind & cloud & humidity]\n",
    " \n",
    "weather\n",
    "\n"
   ]
  },
  {
   "cell_type": "markdown",
   "metadata": {},
   "source": [
    "### Hotel Map\n",
    "* Store into variable named `hotel_df`.\n",
    "* Add a \"Hotel Name\" column to the DataFrame.\n",
    "* Set parameters to search for hotels with 5000 meters.\n",
    "* Hit the Google Places API for each city's coordinates.\n",
    "* Store the first Hotel result into the DataFrame.\n",
    "* Plot markers on top of the heatmap."
   ]
  },
  {
   "cell_type": "code",
   "execution_count": 12,
   "metadata": {},
   "outputs": [
    {
     "name": "stderr",
     "output_type": "stream",
     "text": [
      "C:\\Users\\Helen\\AppData\\Local\\Temp\\ipykernel_20152\\2649251130.py:4: SettingWithCopyWarning: \n",
      "A value is trying to be set on a copy of a slice from a DataFrame.\n",
      "Try using .loc[row_indexer,col_indexer] = value instead\n",
      "\n",
      "See the caveats in the documentation: https://pandas.pydata.org/pandas-docs/stable/user_guide/indexing.html#returning-a-view-versus-a-copy\n",
      "  hotel_df[\"hotel name\"] = \" \"\n"
     ]
    },
    {
     "data": {
      "text/html": [
       "<div>\n",
       "<style scoped>\n",
       "    .dataframe tbody tr th:only-of-type {\n",
       "        vertical-align: middle;\n",
       "    }\n",
       "\n",
       "    .dataframe tbody tr th {\n",
       "        vertical-align: top;\n",
       "    }\n",
       "\n",
       "    .dataframe thead th {\n",
       "        text-align: right;\n",
       "    }\n",
       "</style>\n",
       "<table border=\"1\" class=\"dataframe\">\n",
       "  <thead>\n",
       "    <tr style=\"text-align: right;\">\n",
       "      <th></th>\n",
       "      <th>City</th>\n",
       "      <th>Latitude</th>\n",
       "      <th>Longitude</th>\n",
       "      <th>Max Temperature</th>\n",
       "      <th>Humidity</th>\n",
       "      <th>Cloud Coverage</th>\n",
       "      <th>Wind Speed</th>\n",
       "      <th>Country</th>\n",
       "      <th>Date</th>\n",
       "      <th>hotel name</th>\n",
       "    </tr>\n",
       "  </thead>\n",
       "  <tbody>\n",
       "    <tr>\n",
       "      <th>323</th>\n",
       "      <td>Nizwá</td>\n",
       "      <td>22.9333</td>\n",
       "      <td>57.5333</td>\n",
       "      <td>75.92</td>\n",
       "      <td>22</td>\n",
       "      <td>14</td>\n",
       "      <td>3.13</td>\n",
       "      <td>OM</td>\n",
       "      <td>1665435282</td>\n",
       "      <td></td>\n",
       "    </tr>\n",
       "    <tr>\n",
       "      <th>525</th>\n",
       "      <td>Lexington</td>\n",
       "      <td>37.9887</td>\n",
       "      <td>-84.4777</td>\n",
       "      <td>74.14</td>\n",
       "      <td>30</td>\n",
       "      <td>0</td>\n",
       "      <td>3.00</td>\n",
       "      <td>US</td>\n",
       "      <td>1665435308</td>\n",
       "      <td></td>\n",
       "    </tr>\n",
       "    <tr>\n",
       "      <th>539</th>\n",
       "      <td>Santa Fe</td>\n",
       "      <td>-31.6333</td>\n",
       "      <td>-60.7000</td>\n",
       "      <td>72.01</td>\n",
       "      <td>24</td>\n",
       "      <td>2</td>\n",
       "      <td>5.99</td>\n",
       "      <td>AR</td>\n",
       "      <td>1665435097</td>\n",
       "      <td></td>\n",
       "    </tr>\n",
       "  </tbody>\n",
       "</table>\n",
       "</div>"
      ],
      "text/plain": [
       "          City  Latitude  Longitude  Max Temperature  Humidity  \\\n",
       "323      Nizwá   22.9333    57.5333            75.92        22   \n",
       "525  Lexington   37.9887   -84.4777            74.14        30   \n",
       "539   Santa Fe  -31.6333   -60.7000            72.01        24   \n",
       "\n",
       "     Cloud Coverage  Wind Speed Country        Date hotel name  \n",
       "323              14        3.13      OM  1665435282             \n",
       "525               0        3.00      US  1665435308             \n",
       "539               2        5.99      AR  1665435097             "
      ]
     },
     "execution_count": 12,
     "metadata": {},
     "output_type": "execute_result"
    }
   ],
   "source": [
    "hotel_df = weather\n",
    "\n",
    "# add \"Hotel Name\" column\n",
    "hotel_df[\"hotel name\"] = \" \"\n",
    "hotel_df.head ()"
   ]
  },
  {
   "cell_type": "code",
   "execution_count": 14,
   "metadata": {},
   "outputs": [],
   "source": [
    "hotel_df=hotel_df.rename(columns={\"Latitude\": \"Lat\", \"Longitude\": \"Lng\"})"
   ]
  },
  {
   "cell_type": "code",
   "execution_count": 16,
   "metadata": {},
   "outputs": [
    {
     "name": "stdout",
     "output_type": "stream",
     "text": [
      "Getting your results 323: Nizwá\n",
      "The closest hotel to Nizwá is the: Orient Apartments\n",
      "------------\n",
      "Getting your results 525: Lexington\n",
      "The closest hotel to Lexington is the: DoubleTree Suites by Hilton Hotel Lexington\n",
      "------------\n",
      "Getting your results 539: Santa Fe\n",
      "The closest hotel to Santa Fe is the: Conquistador Hotel\n",
      "------------\n"
     ]
    },
    {
     "data": {
      "text/html": [
       "<div>\n",
       "<style scoped>\n",
       "    .dataframe tbody tr th:only-of-type {\n",
       "        vertical-align: middle;\n",
       "    }\n",
       "\n",
       "    .dataframe tbody tr th {\n",
       "        vertical-align: top;\n",
       "    }\n",
       "\n",
       "    .dataframe thead th {\n",
       "        text-align: right;\n",
       "    }\n",
       "</style>\n",
       "<table border=\"1\" class=\"dataframe\">\n",
       "  <thead>\n",
       "    <tr style=\"text-align: right;\">\n",
       "      <th></th>\n",
       "      <th>City</th>\n",
       "      <th>Lat</th>\n",
       "      <th>Lng</th>\n",
       "      <th>Max Temperature</th>\n",
       "      <th>Humidity</th>\n",
       "      <th>Cloud Coverage</th>\n",
       "      <th>Wind Speed</th>\n",
       "      <th>Country</th>\n",
       "      <th>Date</th>\n",
       "      <th>hotel name</th>\n",
       "    </tr>\n",
       "  </thead>\n",
       "  <tbody>\n",
       "    <tr>\n",
       "      <th>323</th>\n",
       "      <td>Nizwá</td>\n",
       "      <td>22.9333</td>\n",
       "      <td>57.5333</td>\n",
       "      <td>75.92</td>\n",
       "      <td>22</td>\n",
       "      <td>14</td>\n",
       "      <td>3.13</td>\n",
       "      <td>OM</td>\n",
       "      <td>1665435282</td>\n",
       "      <td>Orient Apartments</td>\n",
       "    </tr>\n",
       "    <tr>\n",
       "      <th>525</th>\n",
       "      <td>Lexington</td>\n",
       "      <td>37.9887</td>\n",
       "      <td>-84.4777</td>\n",
       "      <td>74.14</td>\n",
       "      <td>30</td>\n",
       "      <td>0</td>\n",
       "      <td>3.00</td>\n",
       "      <td>US</td>\n",
       "      <td>1665435308</td>\n",
       "      <td>DoubleTree Suites by Hilton Hotel Lexington</td>\n",
       "    </tr>\n",
       "    <tr>\n",
       "      <th>539</th>\n",
       "      <td>Santa Fe</td>\n",
       "      <td>-31.6333</td>\n",
       "      <td>-60.7000</td>\n",
       "      <td>72.01</td>\n",
       "      <td>24</td>\n",
       "      <td>2</td>\n",
       "      <td>5.99</td>\n",
       "      <td>AR</td>\n",
       "      <td>1665435097</td>\n",
       "      <td>Conquistador Hotel</td>\n",
       "    </tr>\n",
       "  </tbody>\n",
       "</table>\n",
       "</div>"
      ],
      "text/plain": [
       "          City      Lat      Lng  Max Temperature  Humidity  Cloud Coverage  \\\n",
       "323      Nizwá  22.9333  57.5333            75.92        22              14   \n",
       "525  Lexington  37.9887 -84.4777            74.14        30               0   \n",
       "539   Santa Fe -31.6333 -60.7000            72.01        24               2   \n",
       "\n",
       "     Wind Speed Country        Date  \\\n",
       "323        3.13      OM  1665435282   \n",
       "525        3.00      US  1665435308   \n",
       "539        5.99      AR  1665435097   \n",
       "\n",
       "                                      hotel name  \n",
       "323                            Orient Apartments  \n",
       "525  DoubleTree Suites by Hilton Hotel Lexington  \n",
       "539                           Conquistador Hotel  "
      ]
     },
     "execution_count": 16,
     "metadata": {},
     "output_type": "execute_result"
    }
   ],
   "source": [
    "for index, row in hotel_df.iterrows():\n",
    "    lat = row[\"Lat\"]\n",
    "    lng = row[\"Lng\"]\n",
    "    city = row[\"City\"]\n",
    "    coords = (f\"{lat},{lng}\")\n",
    "\n",
    "    parameters = {\n",
    "    \"key\": g_key,\n",
    "    # Set parameters to search for hotels with 5000 meters \n",
    "        # the assingment page says 10,000 metres\n",
    "    \"radius\": 5000,\n",
    "    \"location\": coords,\n",
    "    \"type\": \"lodging\"\n",
    "   }\n",
    "\n",
    "    url = \"https://maps.googleapis.com/maps/api/place/nearbysearch/json\"\n",
    "    response_json = requests.get(url, params = parameters).json()\n",
    "\n",
    "    print(f'Getting your results {index}: {city}')\n",
    "\n",
    "    try:\n",
    "        hotel_name = hotel_df.loc[index,\"hotel name\"] = response_json[\"results\"][0][\"name\"]\n",
    "        print(f\"The closest hotel to {city} is the: {hotel_name}\")\n",
    "        \n",
    "    except (KeyError, IndexError):\n",
    "        print(\"No hotels available.\")\n",
    "    print(\"------------\")\n",
    "\n",
    "hotel_df.head ()"
   ]
  },
  {
   "cell_type": "code",
   "execution_count": 13,
   "metadata": {},
   "outputs": [],
   "source": [
    "#hotel_df=hotel_df.rename(columns={\"Latitude\": \"Lat\", \"Longitude\": \"Lng\"})"
   ]
  },
  {
   "cell_type": "code",
   "execution_count": 17,
   "metadata": {},
   "outputs": [],
   "source": [
    "# NOTE: Do not change any of the code in this cell\n",
    "\n",
    "# Using the template add the hotel marks to the heatmap\n",
    "info_box_template = \"\"\"\n",
    "<dl>\n",
    "<dt>Name</dt><dd>{hotel name}</dd>\n",
    "<dt>City</dt><dd>{City}</dd>\n",
    "<dt>Country</dt><dd>{Country}</dd>\n",
    "</dl>\n",
    "\"\"\"\n",
    "# Store the DataFrame Row\n",
    "# NOTE: be sure to update with your DataFrame name\n",
    "hotel_info = [info_box_template.format(**row) for index, row in hotel_df.iterrows()]\n",
    "locations = hotel_df[[\"Lat\", \"Lng\"]]"
   ]
  },
  {
   "cell_type": "code",
   "execution_count": 18,
   "metadata": {},
   "outputs": [
    {
     "data": {
      "application/vnd.jupyter.widget-view+json": {
       "model_id": "7ef64a02bdb041e3a1c22f73a4020d00",
       "version_major": 2,
       "version_minor": 0
      },
      "text/plain": [
       "Figure(layout=FigureLayout(height='420px'))"
      ]
     },
     "metadata": {},
     "output_type": "display_data"
    }
   ],
   "source": [
    "columns = [\"Lat\", \"Lng\"]\n",
    "locations = hotel_df[columns].astype(float)\n",
    "marker_layer = gmaps.marker_layer(locations, info_box_content = hotel_info)\n",
    "fig.add_layer(marker_layer)\n",
    "\n",
    "# Display figure\n",
    "fig\n"
   ]
  },
  {
   "cell_type": "code",
   "execution_count": null,
   "metadata": {},
   "outputs": [],
   "source": []
  },
  {
   "cell_type": "code",
   "execution_count": null,
   "metadata": {},
   "outputs": [],
   "source": []
  }
 ],
 "metadata": {
  "kernelspec": {
   "display_name": "Python 3 (ipykernel)",
   "language": "python",
   "name": "python3"
  },
  "language_info": {
   "codemirror_mode": {
    "name": "ipython",
    "version": 3
   },
   "file_extension": ".py",
   "mimetype": "text/x-python",
   "name": "python",
   "nbconvert_exporter": "python",
   "pygments_lexer": "ipython3",
   "version": "3.9.12"
  },
  "latex_envs": {
   "LaTeX_envs_menu_present": true,
   "autoclose": false,
   "autocomplete": true,
   "bibliofile": "biblio.bib",
   "cite_by": "apalike",
   "current_citInitial": 1,
   "eqLabelWithNumbers": true,
   "eqNumInitial": 1,
   "hotkeys": {
    "equation": "Ctrl-E",
    "itemize": "Ctrl-I"
   },
   "labels_anchors": false,
   "latex_user_defs": false,
   "report_style_numbering": false,
   "user_envs_cfg": false
  }
 },
 "nbformat": 4,
 "nbformat_minor": 4
}
